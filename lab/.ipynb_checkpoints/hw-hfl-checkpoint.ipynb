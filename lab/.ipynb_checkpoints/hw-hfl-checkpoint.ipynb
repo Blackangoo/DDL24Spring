{
 "cells": [
  {
   "cell_type": "markdown",
   "metadata": {},
   "source": [
    "# Homework 1"
   ]
  },
  {
   "cell_type": "markdown",
   "metadata": {},
   "source": [
    "When not otherwise specified, use the following parameter values in experiment runs:\n",
    "- `nr_clients` (N): 100\n",
    "- `lr`: 0.01\n",
    "- `client_fraction`(C): 0.1\n",
    "- `nr_local_epochs` (E): 1\n",
    "- `batch_size` (B): 100\n",
    "- `nr_rounds`: 10\n",
    "- `iid`: True\n",
    "\n",
    "For all exercises, pass `seed = 10` to calls for splitting data, server initialization, or plotting."
   ]
  },
  {
   "cell_type": "code",
   "execution_count": 1,
   "metadata": {
    "execution": {
     "iopub.execute_input": "2024-03-06T18:36:34.900576Z",
     "iopub.status.busy": "2024-03-06T18:36:34.899423Z",
     "iopub.status.idle": "2024-03-06T18:36:43.569594Z",
     "shell.execute_reply": "2024-03-06T18:36:43.567190Z",
     "shell.execute_reply.started": "2024-03-06T18:36:34.900496Z"
    },
    "tags": []
   },
   "outputs": [],
   "source": [
    "import pandas as pd\n",
    "import seaborn as sns\n",
    "from base import *\n",
    "\n",
    "n = 100\n",
    "lr = 0.01\n",
    "c = 0.1\n",
    "e = 1\n",
    "b = 100\n",
    "nr_rounds = 2\n",
    "iid = True\n",
    "seed = 10\n",
    "\n",
    "client_subsets = split(nr_clients=n, iid=iid, seed=seed)"
   ]
  },
  {
   "cell_type": "markdown",
   "metadata": {},
   "source": [
    "## Exercise 1 - FedSGD with weights (3 points)client_subsets"
   ]
  },
  {
   "cell_type": "markdown",
   "metadata": {},
   "source": [
    "### Question"
   ]
  },
  {
   "cell_type": "markdown",
   "metadata": {},
   "source": [
    "_(2 points)_ Implement a version of FedSGD that uses weights in its updates, like FedAvg, instead of the gradients from the version of the tutorials. The two FedSGD versions should have the same test accuracy after each round (with a tolerance of at most 0.02%). To show this, compare their output for the following two scenarios over *5 rounds*:\n",
    "- `lr = 0.01, client_subsets = split(100, True, ...), client_fraction = 0.5`\n",
    "- `lr = 0.1, client_subsets = split(50, False, ...), client_fraction = 0.2`\n",
    "\n",
    "*Tip:* You can use the existing FedAvg implementation to minimize the amount of code writing required.\n",
    "\n",
    "_(1 point)_ Explain in which cases (about the different parameters for decentralized learning) the two are equivalent."
   ]
  },
  {
   "cell_type": "markdown",
   "metadata": {},
   "source": [
    "### Answer"
   ]
  },
  {
   "cell_type": "code",
   "execution_count": 2,
   "metadata": {
    "execution": {
     "iopub.execute_input": "2024-03-06T18:36:43.575054Z",
     "iopub.status.busy": "2024-03-06T18:36:43.574124Z",
     "iopub.status.idle": "2024-03-06T18:36:43.593296Z",
     "shell.execute_reply": "2024-03-06T18:36:43.591594Z",
     "shell.execute_reply.started": "2024-03-06T18:36:43.574995Z"
    }
   },
   "outputs": [
    {
     "data": {
      "text/plain": [
       "'\\nsample_split = split(100, True, seed)\\nfedsgd_gradient_server = FedSgdGradientServer(0.01, sample_split, 0.5, seed)\\nresult_fedsgd_gradient = fedsgd_gradient_server.run(5)\\nfedsgd_gradient_df = result_fedsgd_gradient.as_df()\\nfedsgd_gradient_df\\n\\nsample_split = split(50, False, seed)\\nfedsgd_gradient_server = FedSgdGradientServer(0.1, sample_split, 0.2, seed)\\nresult_fedsgd_gradient = fedsgd_gradient_server.run(5)\\nfedsgd_gradient_df = result_fedsgd_gradient.as_df()\\nfedsgd_gradient_df\\n'"
      ]
     },
     "execution_count": 2,
     "metadata": {},
     "output_type": "execute_result"
    }
   ],
   "source": [
    "# TODO\n",
    "'''\n",
    "sample_split = split(100, True, seed)\n",
    "fedsgd_gradient_server = FedSgdGradientServer(0.01, sample_split, 0.5, seed)\n",
    "result_fedsgd_gradient = fedsgd_gradient_server.run(5)\n",
    "fedsgd_gradient_df = result_fedsgd_gradient.as_df()\n",
    "fedsgd_gradient_df\n",
    "\n",
    "sample_split = split(50, False, seed)\n",
    "fedsgd_gradient_server = FedSgdGradientServer(0.1, sample_split, 0.2, seed)\n",
    "result_fedsgd_gradient = fedsgd_gradient_server.run(5)\n",
    "fedsgd_gradient_df = result_fedsgd_gradient.as_df()\n",
    "fedsgd_gradient_df\n",
    "'''"
   ]
  },
  {
   "cell_type": "markdown",
   "metadata": {},
   "source": [
    "TODO"
   ]
  },
  {
   "cell_type": "markdown",
   "metadata": {},
   "source": [
    "## Exercise 2 - Client number & fraction (4 points)"
   ]
  },
  {
   "cell_type": "markdown",
   "metadata": {},
   "source": [
    "### Question"
   ]
  },
  {
   "cell_type": "markdown",
   "metadata": {},
   "source": [
    "_(2 points)_ Run the necessary experiments to fill in the following table showing the final message count and test accuracy of FedSGD and FedAvg for different total client numbers:\n",
    "\n",
    "| Algorithm | N   | C   | Message count | Test accuracy |\n",
    "| --------- | --- | --- | ------------- | ------------- |\n",
    "| FedSGD    | 10  | 0.1 |               |               |\n",
    "| FedAvg    | 10  | 0.1 |               |               |\n",
    "| FedSGD    | 50  | 0.1 |               |               |\n",
    "| FedAvg    | 50  | 0.1 |               |               |\n",
    "| FedSGD    | 100 | 0.1 |               |               |\n",
    "| FedAvg    | 100 | 0.1 |               |               |\n",
    "\n",
    "Is the relationship between the metrics and client numbers monotonous?\n",
    "\n",
    "_(2 points)_ Run the experiments to fill in the table when varying the fraction of clients used in every round:\n",
    "\n",
    "| Algorithm | N   | C    | Message count | Test accuracy |\n",
    "| --------- | --- | ---- | ------------- | ------------- |\n",
    "| FedSGD    | 100 | 0.01 |               |               |\n",
    "| FedAvg    | 100 | 0.01 |               |               |\n",
    "| FedSGD    | 100 | 0.1  |               |               |\n",
    "| FedAvg    | 100 | 0.1  |               |               |\n",
    "| FedSGD    | 100 | 0.2  |               |               |\n",
    "| FedAvg    | 100 | 0.2  |               |               |\n",
    "\n",
    "How does the observed pattern differ?"
   ]
  },
  {
   "cell_type": "markdown",
   "metadata": {},
   "source": [
    "### Answer"
   ]
  },
  {
   "cell_type": "code",
   "execution_count": 3,
   "metadata": {
    "execution": {
     "iopub.execute_input": "2024-03-06T18:36:43.595141Z",
     "iopub.status.busy": "2024-03-06T18:36:43.594739Z",
     "iopub.status.idle": "2024-03-06T19:22:07.926795Z",
     "shell.execute_reply": "2024-03-06T19:22:06.212798Z",
     "shell.execute_reply.started": "2024-03-06T18:36:43.595104Z"
    },
    "tags": []
   },
   "outputs": [
    {
     "name": "stderr",
     "output_type": "stream",
     "text": [
      "                                                      \r"
     ]
    }
   ],
   "source": [
    "client_subsets_2_a = [split(n, iid, seed) for n in [10,50,100]]\n",
    "\n",
    "fedsgd_gradient_df = [FedSgdGradientServer(lr=lr, client_subsets=client_subsets_2_a[i], client_fraction=c, seed=seed).run(nr_rounds).as_df() for i in range (3)]\n",
    "fedavg_df = [FedAvgServer(lr=lr, batch_size=b, client_subsets=client_subsets_2_a[i], client_fraction=c, nr_local_epochs=e, seed=seed).run(nr_rounds).as_df() for i in range (3)]\n",
    "\n",
    "merged_df_2_a = pd.concat(fedsgd_gradient_df + fedavg_df, ignore_index=True)"
   ]
  },
  {
   "cell_type": "code",
   "execution_count": 10,
   "metadata": {
    "execution": {
     "iopub.execute_input": "2024-03-06T20:33:18.082661Z",
     "iopub.status.busy": "2024-03-06T20:33:18.078391Z",
     "iopub.status.idle": "2024-03-06T20:33:28.481013Z",
     "shell.execute_reply": "2024-03-06T20:33:28.452500Z",
     "shell.execute_reply.started": "2024-03-06T20:33:18.082555Z"
    },
    "tags": []
   },
   "outputs": [
    {
     "data": {
      "text/html": [
       "<div>\n",
       "<style scoped>\n",
       "    .dataframe tbody tr th:only-of-type {\n",
       "        vertical-align: middle;\n",
       "    }\n",
       "\n",
       "    .dataframe tbody tr th {\n",
       "        vertical-align: top;\n",
       "    }\n",
       "\n",
       "    .dataframe thead th {\n",
       "        text-align: right;\n",
       "    }\n",
       "</style>\n",
       "<table border=\"1\" class=\"dataframe\">\n",
       "  <thead>\n",
       "    <tr style=\"text-align: right;\">\n",
       "      <th></th>\n",
       "      <th>Round</th>\n",
       "      <th>Algorithm</th>\n",
       "      <th>N</th>\n",
       "      <th>C</th>\n",
       "      <th>B</th>\n",
       "      <th>E</th>\n",
       "      <th>η</th>\n",
       "      <th>Seed</th>\n",
       "      <th>Message count</th>\n",
       "      <th>Test accuracy</th>\n",
       "    </tr>\n",
       "  </thead>\n",
       "  <tbody>\n",
       "    <tr>\n",
       "      <th>0</th>\n",
       "      <td>1</td>\n",
       "      <td>FedSGDGradient</td>\n",
       "      <td>100</td>\n",
       "      <td>0.01</td>\n",
       "      <td>∞</td>\n",
       "      <td>1</td>\n",
       "      <td>0.01</td>\n",
       "      <td>10</td>\n",
       "      <td>2</td>\n",
       "      <td>9.40</td>\n",
       "    </tr>\n",
       "    <tr>\n",
       "      <th>1</th>\n",
       "      <td>1</td>\n",
       "      <td>FedSGDGradient</td>\n",
       "      <td>100</td>\n",
       "      <td>0.10</td>\n",
       "      <td>∞</td>\n",
       "      <td>1</td>\n",
       "      <td>0.01</td>\n",
       "      <td>10</td>\n",
       "      <td>20</td>\n",
       "      <td>9.01</td>\n",
       "    </tr>\n",
       "    <tr>\n",
       "      <th>2</th>\n",
       "      <td>1</td>\n",
       "      <td>FedSGDGradient</td>\n",
       "      <td>100</td>\n",
       "      <td>0.20</td>\n",
       "      <td>∞</td>\n",
       "      <td>1</td>\n",
       "      <td>0.01</td>\n",
       "      <td>10</td>\n",
       "      <td>40</td>\n",
       "      <td>8.89</td>\n",
       "    </tr>\n",
       "    <tr>\n",
       "      <th>3</th>\n",
       "      <td>1</td>\n",
       "      <td>FedAvg</td>\n",
       "      <td>100</td>\n",
       "      <td>0.01</td>\n",
       "      <td>100</td>\n",
       "      <td>1</td>\n",
       "      <td>0.01</td>\n",
       "      <td>10</td>\n",
       "      <td>2</td>\n",
       "      <td>30.20</td>\n",
       "    </tr>\n",
       "    <tr>\n",
       "      <th>4</th>\n",
       "      <td>1</td>\n",
       "      <td>FedAvg</td>\n",
       "      <td>100</td>\n",
       "      <td>0.10</td>\n",
       "      <td>100</td>\n",
       "      <td>1</td>\n",
       "      <td>0.01</td>\n",
       "      <td>10</td>\n",
       "      <td>20</td>\n",
       "      <td>30.55</td>\n",
       "    </tr>\n",
       "    <tr>\n",
       "      <th>5</th>\n",
       "      <td>1</td>\n",
       "      <td>FedAvg</td>\n",
       "      <td>100</td>\n",
       "      <td>0.20</td>\n",
       "      <td>100</td>\n",
       "      <td>1</td>\n",
       "      <td>0.01</td>\n",
       "      <td>10</td>\n",
       "      <td>40</td>\n",
       "      <td>31.02</td>\n",
       "    </tr>\n",
       "  </tbody>\n",
       "</table>\n",
       "</div>"
      ],
      "text/plain": [
       "   Round       Algorithm    N     C    B  E     η  Seed  Message count  \\\n",
       "0      1  FedSGDGradient  100  0.01    ∞  1  0.01    10              2   \n",
       "1      1  FedSGDGradient  100  0.10    ∞  1  0.01    10             20   \n",
       "2      1  FedSGDGradient  100  0.20    ∞  1  0.01    10             40   \n",
       "3      1          FedAvg  100  0.01  100  1  0.01    10              2   \n",
       "4      1          FedAvg  100  0.10  100  1  0.01    10             20   \n",
       "5      1          FedAvg  100  0.20  100  1  0.01    10             40   \n",
       "\n",
       "   Test accuracy  \n",
       "0           9.40  \n",
       "1           9.01  \n",
       "2           8.89  \n",
       "3          30.20  \n",
       "4          30.55  \n",
       "5          31.02  "
      ]
     },
     "execution_count": 10,
     "metadata": {},
     "output_type": "execute_result"
    }
   ],
   "source": [
    "merged_df_2_a"
   ]
  },
  {
   "cell_type": "markdown",
   "metadata": {},
   "source": [
    "TODO"
   ]
  },
  {
   "cell_type": "code",
   "execution_count": 4,
   "metadata": {
    "execution": {
     "iopub.execute_input": "2024-03-06T19:22:10.325215Z",
     "iopub.status.busy": "2024-03-06T19:22:10.225281Z",
     "iopub.status.idle": "2024-03-06T20:27:31.076756Z",
     "shell.execute_reply": "2024-03-06T20:27:30.140010Z",
     "shell.execute_reply.started": "2024-03-06T19:22:10.323541Z"
    },
    "tags": []
   },
   "outputs": [
    {
     "name": "stderr",
     "output_type": "stream",
     "text": [
      "                                                      \r"
     ]
    }
   ],
   "source": [
    "fraction_of_clients = [0.01, 0.1, 0.2]\n",
    "\n",
    "fedsgd_gradient_df = [FedSgdGradientServer(lr=lr, client_subsets=client_subsets, client_fraction=fraction_of_clients[i], seed=seed).run(nr_rounds).as_df() for i in range (3)]\n",
    "fedavg_df = [FedAvgServer(lr=lr, batch_size=b, client_subsets=client_subsets, client_fraction=fraction_of_clients[i], nr_local_epochs=e, seed=seed).run(nr_rounds).as_df() for i in range (3)]\n",
    "\n",
    "merged_df_2_b = pd.concat(fedsgd_gradient_df + fedavg_df, ignore_index=True)"
   ]
  },
  {
   "cell_type": "code",
   "execution_count": null,
   "metadata": {},
   "outputs": [],
   "source": [
    "merged_df_2_b"
   ]
  },
  {
   "cell_type": "markdown",
   "metadata": {},
   "source": [
    "TODO"
   ]
  },
  {
   "cell_type": "markdown",
   "metadata": {},
   "source": [
    "## Exercise 3 - Batch size & learning rate (4 points)"
   ]
  },
  {
   "cell_type": "markdown",
   "metadata": {},
   "source": [
    "### Question"
   ]
  },
  {
   "cell_type": "markdown",
   "metadata": {},
   "source": [
    "_(2 points)_ Complete the following table with the last-round wall time and test accuracy of FedAvg under different batch sizes:\n",
    "\n",
    "| Algorithm | B   | η    | Wall time | Test accuracy |\n",
    "| --------- | --- | ---- | --------- | ------------- |\n",
    "| FedAvg    | 10  | 0.01 |           |               |\n",
    "| FedAvg    | 100 | 0.01 |           |               |\n",
    "| FedAvg    | 500 | 0.01 |           |               |\n",
    "\n",
    "What is the trade-off for larger batch sizes?\n",
    "\n",
    "*Note:* The exact measured time will differ from run to run, even on the same machine, but the trends should remain the same. Furthermore, the effect of batch size on wall time is less pronounced and, depending on the exact hardware is sometimes minimal when running on CPU instead of GPU.\n",
    "\n",
    "_(2 points)_ Add the corresponding values for varying learning rates, also for FedSGD, in the table below:\n",
    "\n",
    "| Algorithm | B   | η     | Wall time | Test accuracy |\n",
    "| --------- | --- | ----- | --------- | ------------- |\n",
    "| FedSGD    | ∞   | 0.001 |           |               |\n",
    "| FedAvg    | 100 | 0.001 |           |               |\n",
    "| FedSGD    | ∞   | 0.01  |           |               |\n",
    "| FedAvg    | 100 | 0.01  |           |               |\n",
    "| FedSGD    | ∞   | 1.0   |           |               |\n",
    "| FedAvg    | 100 | 1.0   |           |               |\n",
    "\n",
    "Does the learning rate influence the wall time? For accuracy, how does it change the value obtained within the set number of rounds? Can it impact the model's convergence?"
   ]
  },
  {
   "cell_type": "markdown",
   "metadata": {},
   "source": [
    "### Answer"
   ]
  },
  {
   "cell_type": "code",
   "execution_count": 5,
   "metadata": {
    "execution": {
     "iopub.execute_input": "2024-03-06T20:27:34.170218Z",
     "iopub.status.busy": "2024-03-06T20:27:34.033186Z",
     "iopub.status.idle": "2024-03-06T20:27:38.139755Z",
     "shell.execute_reply": "2024-03-06T20:27:38.120221Z",
     "shell.execute_reply.started": "2024-03-06T20:27:34.168371Z"
    }
   },
   "outputs": [],
   "source": [
    "batch_sizes = [10, 100, 500]\n",
    "\n",
    "fedavg_df_3_a = [FedAvgServer(lr=lr, batch_size=batch_sizes[i], client_subsets=client_subsets, client_fraction=c, nr_local_epochs=e, seed=seed).run(nr_rounds).as_df(skip_wtime=False) for i in range (3)]\n",
    "\n",
    "fedavg_df_3_a"
   ]
  },
  {
   "cell_type": "markdown",
   "metadata": {},
   "source": [
    "TODO"
   ]
  },
  {
   "cell_type": "code",
   "execution_count": 6,
   "metadata": {
    "execution": {
     "iopub.execute_input": "2024-03-06T20:27:38.268385Z",
     "iopub.status.busy": "2024-03-06T20:27:38.252096Z",
     "iopub.status.idle": "2024-03-06T20:27:38.404053Z",
     "shell.execute_reply": "2024-03-06T20:27:38.371959Z",
     "shell.execute_reply.started": "2024-03-06T20:27:38.268289Z"
    }
   },
   "outputs": [],
   "source": [
    "learning_rates = [0.001, 0.01, 1.0]\n",
    "\n",
    "fedsgd_gradient_df = [FedSgdGradientServer(lr=learning_rates[i], client_subsets=client_subsets, client_fraction=c, seed=seed).run(nr_rounds).as_df(skip_wtime=False) for i in range (3)]\n",
    "fedavg_df = [FedAvgServer(lr=learning_rates[i], batch_size=b, client_subsets=client_subsets, client_fraction=c, nr_local_epochs=e, seed=seed).run(nr_rounds).as_df(skip_wtime=False) for i in range (3)]\n",
    "\n",
    "merged_df_3_b = pd.concat(fedsgd_gradient_df + fedavg_df, ignore_index=True)\n",
    "\n",
    "merged_df_3_b"
   ]
  },
  {
   "cell_type": "markdown",
   "metadata": {},
   "source": [
    "TODO"
   ]
  },
  {
   "cell_type": "markdown",
   "metadata": {},
   "source": [
    "## Exercise 4 - Local epoch count & (non-)IID data (5 points)"
   ]
  },
  {
   "cell_type": "markdown",
   "metadata": {},
   "source": [
    "### Question"
   ]
  },
  {
   "cell_type": "markdown",
   "metadata": {},
   "source": [
    "_(1 point)_ Create a line plot of the accuracy after each round for the following algorithm variants:\n",
    "\n",
    "- FedSGD\n",
    "- FedAvg (E=1)\n",
    "- FedAvg (E=2)\n",
    "- FedAvg (E=4)\n",
    "\n",
    "How does FedAvg compare to FedSGD? What is the effect of increasing the work clients perform locally for each update in FedAvg?\n",
    "\n",
    "_(2 points)_ Make one line plot of FedSGD and FedAvg under an IID and non-IID split for 15 rounds (leaving all other parameter values as they previously mentioned default). How does the non-IID setting affect the accuracy achieved by the two algorithms? What is the difference in terms of the smoothness of learning?\n",
    "\n",
    "_(2 points)_ Make another plot for only non-IID splits, including the FedSGD and FedAvg configs from before, and add a version for each with a learning rate of 0.001 and client fraction of 0.5. How does the stability of the new variants compare to the old ones? Why do the changes in parameters have the observed effect?"
   ]
  },
  {
   "cell_type": "markdown",
   "metadata": {},
   "source": [
    "### Answer"
   ]
  },
  {
   "cell_type": "code",
   "execution_count": 7,
   "metadata": {
    "execution": {
     "iopub.execute_input": "2024-03-06T20:27:39.341343Z",
     "iopub.status.busy": "2024-03-06T20:27:39.337394Z",
     "iopub.status.idle": "2024-03-06T20:27:39.349845Z",
     "shell.execute_reply": "2024-03-06T20:27:39.348205Z",
     "shell.execute_reply.started": "2024-03-06T20:27:39.341253Z"
    }
   },
   "outputs": [],
   "source": [
    "# TODO"
   ]
  },
  {
   "cell_type": "markdown",
   "metadata": {},
   "source": [
    "TODO"
   ]
  },
  {
   "cell_type": "code",
   "execution_count": 8,
   "metadata": {
    "execution": {
     "iopub.execute_input": "2024-03-06T20:27:39.377350Z",
     "iopub.status.busy": "2024-03-06T20:27:39.375595Z",
     "iopub.status.idle": "2024-03-06T20:27:39.713832Z",
     "shell.execute_reply": "2024-03-06T20:27:39.711960Z",
     "shell.execute_reply.started": "2024-03-06T20:27:39.377272Z"
    }
   },
   "outputs": [],
   "source": [
    "# TODO"
   ]
  },
  {
   "cell_type": "markdown",
   "metadata": {},
   "source": [
    "TODO"
   ]
  },
  {
   "cell_type": "code",
   "execution_count": 9,
   "metadata": {
    "execution": {
     "iopub.execute_input": "2024-03-06T20:27:39.807021Z",
     "iopub.status.busy": "2024-03-06T20:27:39.804810Z",
     "iopub.status.idle": "2024-03-06T20:27:39.852826Z",
     "shell.execute_reply": "2024-03-06T20:27:39.850639Z",
     "shell.execute_reply.started": "2024-03-06T20:27:39.806924Z"
    }
   },
   "outputs": [],
   "source": [
    "# TODO"
   ]
  },
  {
   "cell_type": "markdown",
   "metadata": {},
   "source": [
    "TODO"
   ]
  },
  {
   "cell_type": "markdown",
   "metadata": {},
   "source": []
  }
 ],
 "metadata": {
  "kernelspec": {
   "display_name": "Python3",
   "language": "python",
   "name": "python3"
  },
  "language_info": {
   "codemirror_mode": {
    "name": "ipython",
    "version": 3
   },
   "file_extension": ".py",
   "mimetype": "text/x-python",
   "name": "python",
   "nbconvert_exporter": "python",
   "pygments_lexer": "ipython3",
   "version": "3.11.5"
  }
 },
 "nbformat": 4,
 "nbformat_minor": 4
}
