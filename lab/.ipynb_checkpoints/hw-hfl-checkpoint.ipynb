{
 "cells": [
  {
   "cell_type": "markdown",
   "metadata": {},
   "source": [
    "# Homework 1"
   ]
  },
  {
   "cell_type": "markdown",
   "metadata": {},
   "source": [
    "When not otherwise specified, use the following parameter values in experiment runs:\n",
    "- `nr_clients` (N): 100\n",
    "- `lr`: 0.01\n",
    "- `client_fraction`(C): 0.1\n",
    "- `nr_local_epochs` (E): 1\n",
    "- `batch_size` (B): 100\n",
    "- `nr_rounds`: 10\n",
    "- `iid`: True\n",
    "\n",
    "For all exercises, pass `seed = 10` to calls for splitting data, server initialization, or plotting."
   ]
  },
  {
   "cell_type": "code",
   "execution_count": 1,
   "metadata": {
    "execution": {
     "iopub.execute_input": "2024-03-05T15:08:41.994448Z",
     "iopub.status.busy": "2024-03-05T15:08:41.993283Z",
     "iopub.status.idle": "2024-03-05T15:09:16.414910Z",
     "shell.execute_reply": "2024-03-05T15:09:16.412551Z",
     "shell.execute_reply.started": "2024-03-05T15:08:41.994379Z"
    },
    "tags": []
   },
   "outputs": [],
   "source": [
    "import pandas as pd\n",
    "import seaborn as sns\n",
    "from base import *\n",
    "\n",
    "n = 100\n",
    "lr = 0.01\n",
    "c = 0.1\n",
    "e = 1\n",
    "b = 100\n",
    "nr_rounds = 10\n",
    "iid = True\n",
    "seed = 10"
   ]
  },
  {
   "cell_type": "markdown",
   "metadata": {},
   "source": [
    "## Exercise 1 - FedSGD with weights (3 points)client_subsets"
   ]
  },
  {
   "cell_type": "markdown",
   "metadata": {},
   "source": [
    "### Question"
   ]
  },
  {
   "cell_type": "markdown",
   "metadata": {},
   "source": [
    "_(2 points)_ Implement a version of FedSGD that uses weights in its updates, like FedAvg, instead of the gradients from the version of the tutorials. The two FedSGD versions should have the same test accuracy after each round (with a tolerance of at most 0.02%). To show this, compare their output for the following two scenarios over *5 rounds*:\n",
    "- `lr = 0.01, client_subsets = split(100, True, ...), client_fraction = 0.5`\n",
    "- `lr = 0.1, client_subsets = split(50, False, ...), client_fraction = 0.2`\n",
    "\n",
    "*Tip:* You can use the existing FedAvg implementation to minimize the amount of code writing required.\n",
    "\n",
    "_(1 point)_ Explain in which cases (about the different parameters for decentralized learning) the two are equivalent."
   ]
  },
  {
   "cell_type": "markdown",
   "metadata": {},
   "source": [
    "### Answer"
   ]
  },
  {
   "cell_type": "code",
   "execution_count": 2,
   "metadata": {
    "execution": {
     "iopub.execute_input": "2024-03-05T15:09:16.420174Z",
     "iopub.status.busy": "2024-03-05T15:09:16.419071Z",
     "iopub.status.idle": "2024-03-05T15:09:16.436680Z",
     "shell.execute_reply": "2024-03-05T15:09:16.435340Z",
     "shell.execute_reply.started": "2024-03-05T15:09:16.420113Z"
    }
   },
   "outputs": [
    {
     "data": {
      "text/plain": [
       "'\\nsample_split = split(100, True, seed)\\nfedsgd_gradient_server = FedSgdGradientServer(0.01, sample_split, 0.5, seed)\\nresult_fedsgd_gradient = fedsgd_gradient_server.run(5)\\nfedsgd_gradient_df = result_fedsgd_gradient.as_df()\\nfedsgd_gradient_df\\n\\nsample_split = split(50, False, seed)\\nfedsgd_gradient_server = FedSgdGradientServer(0.1, sample_split, 0.2, seed)\\nresult_fedsgd_gradient = fedsgd_gradient_server.run(5)\\nfedsgd_gradient_df = result_fedsgd_gradient.as_df()\\nfedsgd_gradient_df\\n'"
      ]
     },
     "execution_count": 2,
     "metadata": {},
     "output_type": "execute_result"
    }
   ],
   "source": [
    "# TODO\n",
    "'''\n",
    "sample_split = split(100, True, seed)\n",
    "fedsgd_gradient_server = FedSgdGradientServer(0.01, sample_split, 0.5, seed)\n",
    "result_fedsgd_gradient = fedsgd_gradient_server.run(5)\n",
    "fedsgd_gradient_df = result_fedsgd_gradient.as_df()\n",
    "fedsgd_gradient_df\n",
    "\n",
    "sample_split = split(50, False, seed)\n",
    "fedsgd_gradient_server = FedSgdGradientServer(0.1, sample_split, 0.2, seed)\n",
    "result_fedsgd_gradient = fedsgd_gradient_server.run(5)\n",
    "fedsgd_gradient_df = result_fedsgd_gradient.as_df()\n",
    "fedsgd_gradient_df\n",
    "'''"
   ]
  },
  {
   "cell_type": "markdown",
   "metadata": {},
   "source": [
    "TODO"
   ]
  },
  {
   "cell_type": "markdown",
   "metadata": {},
   "source": [
    "## Exercise 2 - Client number & fraction (4 points)"
   ]
  },
  {
   "cell_type": "markdown",
   "metadata": {},
   "source": [
    "### Question"
   ]
  },
  {
   "cell_type": "markdown",
   "metadata": {},
   "source": [
    "_(2 points)_ Run the necessary experiments to fill in the following table showing the final message count and test accuracy of FedSGD and FedAvg for different total client numbers:\n",
    "\n",
    "| Algorithm | N   | C   | Message count | Test accuracy |\n",
    "| --------- | --- | --- | ------------- | ------------- |\n",
    "| FedSGD    | 10  | 0.1 |               |               |\n",
    "| FedAvg    | 10  | 0.1 |               |               |\n",
    "| FedSGD    | 50  | 0.1 |               |               |\n",
    "| FedAvg    | 50  | 0.1 |               |               |\n",
    "| FedSGD    | 100 | 0.1 |               |               |\n",
    "| FedAvg    | 100 | 0.1 |               |               |\n",
    "\n",
    "Is the relationship between the metrics and client numbers monotonous?\n",
    "\n",
    "_(2 points)_ Run the experiments to fill in the table when varying the fraction of clients used in every round:\n",
    "\n",
    "| Algorithm | N   | C    | Message count | Test accuracy |\n",
    "| --------- | --- | ---- | ------------- | ------------- |\n",
    "| FedSGD    | 100 | 0.01 |               |               |\n",
    "| FedAvg    | 100 | 0.01 |               |               |\n",
    "| FedSGD    | 100 | 0.1  |               |               |\n",
    "| FedAvg    | 100 | 0.1  |               |               |\n",
    "| FedSGD    | 100 | 0.2  |               |               |\n",
    "| FedAvg    | 100 | 0.2  |               |               |\n",
    "\n",
    "How does the observed pattern differ?"
   ]
  },
  {
   "cell_type": "markdown",
   "metadata": {},
   "source": [
    "### Answer"
   ]
  },
  {
   "cell_type": "code",
   "execution_count": 3,
   "metadata": {
    "execution": {
     "iopub.execute_input": "2024-03-05T15:09:16.438386Z",
     "iopub.status.busy": "2024-03-05T15:09:16.438039Z",
     "iopub.status.idle": "2024-03-05T15:16:50.776966Z",
     "shell.execute_reply": "2024-03-05T15:16:49.643143Z",
     "shell.execute_reply.started": "2024-03-05T15:09:16.438356Z"
    },
    "tags": []
   },
   "outputs": [
    {
     "name": "stderr",
     "output_type": "stream",
     "text": [
      "                                                       \n",
      "KeyboardInterrupt\n",
      "\n"
     ]
    }
   ],
   "source": [
    "client_subsets = [split(n, iid, seed) for n in [10,50,100]]\n",
    "\n",
    "fedsgd_gradient_df = [FedSgdGradientServer(lr, client_subsets[i], c, seed).run(nr_rounds).as_df() for i in range (3)]\n",
    "fedavg_df = [FedAvgServer(lr, b, client_subsets[i], c, e, seed).run(nr_rounds).as_df() for i in range (3)]\n",
    "\n",
    "merged_df = pd.concat(fedsgd_gradient_df + fedavg_df, ignore_index=True)"
   ]
  },
  {
   "cell_type": "markdown",
   "metadata": {},
   "source": [
    "TODO"
   ]
  },
  {
   "cell_type": "code",
   "execution_count": null,
   "metadata": {
    "execution": {
     "iopub.status.busy": "2024-03-05T15:16:51.853193Z",
     "iopub.status.idle": "2024-03-05T15:16:51.857352Z",
     "shell.execute_reply": "2024-03-05T15:16:51.856648Z",
     "shell.execute_reply.started": "2024-03-05T15:16:51.856511Z"
    },
    "tags": []
   },
   "outputs": [],
   "source": [
    "fraction_of_clients = [0.01, 0.1, 0.2]\n",
    "client_subset = split(100, True, seed)\n",
    "\n",
    "fedsgd_gradient_df = [FedSgdGradientServer(lr, client_subset, fraction_of_clients[i], seed).run(nr_rounds).as_df() for i in range (3)]\n",
    "fedavg_df = [FedAvgServer(lr, b, client_subset, fraction_of_clients[i], e, seed).run(nr_rounds).as_df() for i in range (3)]\n",
    "\n",
    "merged_df = pd.concat(fedsgd_gradient_df + fedavg_df, ignore_index=True)"
   ]
  },
  {
   "cell_type": "markdown",
   "metadata": {},
   "source": [
    "TODO"
   ]
  },
  {
   "cell_type": "markdown",
   "metadata": {},
   "source": [
    "## Exercise 3 - Batch size & learning rate (4 points)"
   ]
  },
  {
   "cell_type": "markdown",
   "metadata": {},
   "source": [
    "### Question"
   ]
  },
  {
   "cell_type": "markdown",
   "metadata": {},
   "source": [
    "_(2 points)_ Complete the following table with the last-round wall time and test accuracy of FedAvg under different batch sizes:\n",
    "\n",
    "| Algorithm | B   | η    | Wall time | Test accuracy |\n",
    "| --------- | --- | ---- | --------- | ------------- |\n",
    "| FedAvg    | 10  | 0.01 |           |               |\n",
    "| FedAvg    | 100 | 0.01 |           |               |\n",
    "| FedAvg    | 500 | 0.01 |           |               |\n",
    "\n",
    "What is the trade-off for larger batch sizes?\n",
    "\n",
    "*Note:* The exact measured time will differ from run to run, even on the same machine, but the trends should remain the same. Furthermore, the effect of batch size on wall time is less pronounced and, depending on the exact hardware is sometimes minimal when running on CPU instead of GPU.\n",
    "\n",
    "_(2 points)_ Add the corresponding values for varying learning rates, also for FedSGD, in the table below:\n",
    "\n",
    "| Algorithm | B   | η     | Wall time | Test accuracy |\n",
    "| --------- | --- | ----- | --------- | ------------- |\n",
    "| FedSGD    | ∞   | 0.001 |           |               |\n",
    "| FedAvg    | 100 | 0.001 |           |               |\n",
    "| FedSGD    | ∞   | 0.01  |           |               |\n",
    "| FedAvg    | 100 | 0.01  |           |               |\n",
    "| FedSGD    | ∞   | 1.0   |           |               |\n",
    "| FedAvg    | 100 | 1.0   |           |               |\n",
    "\n",
    "Does the learning rate influence the wall time? For accuracy, how does it change the value obtained within the set number of rounds? Can it impact the model's convergence?"
   ]
  },
  {
   "cell_type": "markdown",
   "metadata": {},
   "source": [
    "### Answer"
   ]
  },
  {
   "cell_type": "code",
   "execution_count": null,
   "metadata": {
    "execution": {
     "iopub.status.busy": "2024-03-05T15:16:51.910949Z",
     "iopub.status.idle": "2024-03-05T15:16:51.963107Z",
     "shell.execute_reply": "2024-03-05T15:16:51.946201Z",
     "shell.execute_reply.started": "2024-03-05T15:16:51.946132Z"
    }
   },
   "outputs": [],
   "source": [
    "# TODO"
   ]
  },
  {
   "cell_type": "markdown",
   "metadata": {},
   "source": [
    "TODO"
   ]
  },
  {
   "cell_type": "code",
   "execution_count": null,
   "metadata": {
    "execution": {
     "iopub.status.busy": "2024-03-05T15:16:52.029811Z",
     "iopub.status.idle": "2024-03-05T15:16:52.030953Z",
     "shell.execute_reply": "2024-03-05T15:16:52.030492Z",
     "shell.execute_reply.started": "2024-03-05T15:16:52.030441Z"
    }
   },
   "outputs": [],
   "source": [
    "# TODO"
   ]
  },
  {
   "cell_type": "markdown",
   "metadata": {},
   "source": [
    "TODO"
   ]
  },
  {
   "cell_type": "markdown",
   "metadata": {},
   "source": [
    "## Exercise 4 - Local epoch count & (non-)IID data (5 points)"
   ]
  },
  {
   "cell_type": "markdown",
   "metadata": {},
   "source": [
    "### Question"
   ]
  },
  {
   "cell_type": "markdown",
   "metadata": {},
   "source": [
    "_(1 point)_ Create a line plot of the accuracy after each round for the following algorithm variants:\n",
    "\n",
    "- FedSGD\n",
    "- FedAvg (E=1)\n",
    "- FedAvg (E=2)\n",
    "- FedAvg (E=4)\n",
    "\n",
    "How does FedAvg compare to FedSGD? What is the effect of increasing the work clients perform locally for each update in FedAvg?\n",
    "\n",
    "_(2 points)_ Make one line plot of FedSGD and FedAvg under an IID and non-IID split for 15 rounds (leaving all other parameter values as they previously mentioned default). How does the non-IID setting affect the accuracy achieved by the two algorithms? What is the difference in terms of the smoothness of learning?\n",
    "\n",
    "_(2 points)_ Make another plot for only non-IID splits, including the FedSGD and FedAvg configs from before, and add a version for each with a learning rate of 0.001 and client fraction of 0.5. How does the stability of the new variants compare to the old ones? Why do the changes in parameters have the observed effect?"
   ]
  },
  {
   "cell_type": "markdown",
   "metadata": {},
   "source": [
    "### Answer"
   ]
  },
  {
   "cell_type": "code",
   "execution_count": null,
   "metadata": {
    "execution": {
     "iopub.status.busy": "2024-03-05T15:16:52.046194Z",
     "iopub.status.idle": "2024-03-05T15:16:52.047199Z",
     "shell.execute_reply": "2024-03-05T15:16:52.046775Z",
     "shell.execute_reply.started": "2024-03-05T15:16:52.046727Z"
    }
   },
   "outputs": [],
   "source": [
    "# TODO"
   ]
  },
  {
   "cell_type": "markdown",
   "metadata": {},
   "source": [
    "TODO"
   ]
  },
  {
   "cell_type": "code",
   "execution_count": null,
   "metadata": {
    "execution": {
     "iopub.status.busy": "2024-03-05T15:16:52.087681Z",
     "iopub.status.idle": "2024-03-05T15:16:52.088823Z",
     "shell.execute_reply": "2024-03-05T15:16:52.088331Z",
     "shell.execute_reply.started": "2024-03-05T15:16:52.088276Z"
    }
   },
   "outputs": [],
   "source": [
    "# TODO"
   ]
  },
  {
   "cell_type": "markdown",
   "metadata": {},
   "source": [
    "TODO"
   ]
  },
  {
   "cell_type": "code",
   "execution_count": null,
   "metadata": {
    "execution": {
     "iopub.status.busy": "2024-03-05T15:16:52.131831Z",
     "iopub.status.idle": "2024-03-05T15:16:52.133974Z",
     "shell.execute_reply": "2024-03-05T15:16:52.132493Z",
     "shell.execute_reply.started": "2024-03-05T15:16:52.132449Z"
    }
   },
   "outputs": [],
   "source": [
    "# TODO"
   ]
  },
  {
   "cell_type": "markdown",
   "metadata": {},
   "source": [
    "TODO"
   ]
  },
  {
   "cell_type": "markdown",
   "metadata": {},
   "source": []
  }
 ],
 "metadata": {
  "kernelspec": {
   "display_name": "Python3",
   "language": "python",
   "name": "python3"
  },
  "language_info": {
   "codemirror_mode": {
    "name": "ipython",
    "version": 3
   },
   "file_extension": ".py",
   "mimetype": "text/x-python",
   "name": "python",
   "nbconvert_exporter": "python",
   "pygments_lexer": "ipython3",
   "version": "3.11.5"
  }
 },
 "nbformat": 4,
 "nbformat_minor": 4
}
