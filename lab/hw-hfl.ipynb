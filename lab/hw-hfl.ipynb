{
 "cells": [
  {
   "cell_type": "markdown",
   "metadata": {},
   "source": [
    "# Homework 1"
   ]
  },
  {
   "cell_type": "markdown",
   "metadata": {},
   "source": [
    "When not otherwise specified, use the following parameter values in experiment runs:\n",
    "- `nr_clients` (N): 100\n",
    "- `lr`: 0.01\n",
    "- `client_fraction`(C): 0.1\n",
    "- `nr_local_epochs` (E): 1\n",
    "- `batch_size` (B): 100\n",
    "- `nr_rounds`: 10\n",
    "- `iid`: True\n",
    "\n",
    "For all exercises, pass `seed = 10` to calls for splitting data, server initialization, or plotting."
   ]
  },
  {
   "cell_type": "code",
   "execution_count": 1,
   "metadata": {
    "execution": {
     "iopub.execute_input": "2024-03-09T19:31:48.335735Z",
     "iopub.status.busy": "2024-03-09T19:31:48.335048Z",
     "iopub.status.idle": "2024-03-09T19:31:55.336373Z",
     "shell.execute_reply": "2024-03-09T19:31:55.334070Z",
     "shell.execute_reply.started": "2024-03-09T19:31:48.335667Z"
    },
    "tags": []
   },
   "outputs": [],
   "source": [
    "import pandas as pd\n",
    "import seaborn as sns\n",
    "from base import *\n",
    "\n",
    "n = 100\n",
    "lr = 0.01\n",
    "c = 0.1\n",
    "e = 1\n",
    "b = 100\n",
    "nr_rounds = 10\n",
    "iid = True\n",
    "seed = 10\n",
    "\n",
    "client_subsets = split(nr_clients=n, iid=iid, seed=seed)"
   ]
  },
  {
   "cell_type": "markdown",
   "metadata": {},
   "source": [
    "## Exercise 1 - FedSGD with weights (3 points)client_subsets"
   ]
  },
  {
   "cell_type": "markdown",
   "metadata": {},
   "source": [
    "### Question"
   ]
  },
  {
   "cell_type": "markdown",
   "metadata": {},
   "source": [
    "_(2 points)_ Implement a version of FedSGD that uses weights in its updates, like FedAvg, instead of the gradients from the version of the tutorials. The two FedSGD versions should have the same test accuracy after each round (with a tolerance of at most 0.02%). To show this, compare their output for the following two scenarios over *5 rounds*:\n",
    "- `lr = 0.01, client_subsets = split(100, True, ...), client_fraction = 0.5`\n",
    "- `lr = 0.1, client_subsets = split(50, False, ...), client_fraction = 0.2`\n",
    "\n",
    "*Tip:* You can use the existing FedAvg implementation to minimize the amount of code writing required.\n",
    "\n",
    "_(1 point)_ Explain in which cases (about the different parameters for decentralized learning) the two are equivalent."
   ]
  },
  {
   "cell_type": "markdown",
   "metadata": {},
   "source": [
    "### Answer"
   ]
  },
  {
   "cell_type": "code",
   "execution_count": 2,
   "metadata": {
    "execution": {
     "iopub.execute_input": "2024-03-09T19:31:55.342431Z",
     "iopub.status.busy": "2024-03-09T19:31:55.341343Z",
     "iopub.status.idle": "2024-03-09T19:31:55.360303Z",
     "shell.execute_reply": "2024-03-09T19:31:55.358650Z",
     "shell.execute_reply.started": "2024-03-09T19:31:55.342363Z"
    }
   },
   "outputs": [
    {
     "data": {
      "text/plain": [
       "'\\nsample_split = split(100, True, seed)\\nfedsgd_gradient_server = FedSgdGradientServer(0.01, sample_split, 0.5, seed)\\nresult_fedsgd_gradient = fedsgd_gradient_server.run(5)\\nfedsgd_gradient_df = result_fedsgd_gradient.as_df()\\nfedsgd_gradient_df\\n\\nsample_split = split(50, False, seed)\\nfedsgd_gradient_server = FedSgdGradientServer(0.1, sample_split, 0.2, seed)\\nresult_fedsgd_gradient = fedsgd_gradient_server.run(5)\\nfedsgd_gradient_df = result_fedsgd_gradient.as_df()\\nfedsgd_gradient_df\\n'"
      ]
     },
     "execution_count": 2,
     "metadata": {},
     "output_type": "execute_result"
    }
   ],
   "source": [
    "client_subsets_1_a = split(n=100, iid=True, seed=seed)\n",
    "client_subsets_1_b = split(n=50, iid=False, seed=seed)\n",
    "\n",
    "fedsgd_gradient_df_a = FedSgdGradientServer(lr=0.01, client_subsets=client_subsets_1_a, client_fraction=0.5, seed=seed).run(nr_rounds=5).as_df()\n",
    "fedavg_df_a = FedAvgServer(lr=0.01, batch_size=b, client_subsets=client_subsets_1_a, client_fraction=0.5, nr_local_epochs=e, seed=seed).run(nr_rounds=5).as_df()\n",
    "\n",
    "fedsgd_gradient_df_b = FedSgdGradientServer(lr=0.1, client_subsets=client_subsets_1_b, client_fraction=0.2, seed=seed).run(nr_rounds=5).as_df()\n",
    "fedavg_df_b = FedAvgServer(lr=0.1, batch_size=b, client_subsets=client_subsets_1_b, client_fraction=0.2, nr_local_epochs=e, seed=seed).run(nr_rounds=5).as_df()\n",
    "\n",
    "merged_df_1 = pd.concat([fedsgd_gradient_df_a, fedavg_df_a, fedsgd_gradient_df_b, fedavg_df_b], ignore_index=True)\n",
    "\n",
    "merged_df_1"
   ]
  },
  {
   "cell_type": "markdown",
   "metadata": {},
   "source": [
    "TODO"
   ]
  },
  {
   "cell_type": "markdown",
   "metadata": {},
   "source": [
    "## Exercise 2 - Client number & fraction (4 points)"
   ]
  },
  {
   "cell_type": "markdown",
   "metadata": {},
   "source": [
    "### Question"
   ]
  },
  {
   "cell_type": "markdown",
   "metadata": {},
   "source": [
    "_(2 points)_ Run the necessary experiments to fill in the following table showing the final message count and test accuracy of FedSGD and FedAvg for different total client numbers:\n",
    "\n",
    "| Algorithm | N   | C   | Message count | Test accuracy |\n",
    "| --------- | --- | --- | ------------- | ------------- |\n",
    "| FedSGD    | 10  | 0.1 |               |               |\n",
    "| FedAvg    | 10  | 0.1 |               |               |\n",
    "| FedSGD    | 50  | 0.1 |               |               |\n",
    "| FedAvg    | 50  | 0.1 |               |               |\n",
    "| FedSGD    | 100 | 0.1 |               |               |\n",
    "| FedAvg    | 100 | 0.1 |               |               |\n",
    "\n",
    "Is the relationship between the metrics and client numbers monotonous?\n",
    "\n",
    "_(2 points)_ Run the experiments to fill in the table when varying the fraction of clients used in every round:\n",
    "\n",
    "| Algorithm | N   | C    | Message count | Test accuracy |\n",
    "| --------- | --- | ---- | ------------- | ------------- |\n",
    "| FedSGD    | 100 | 0.01 |               |               |\n",
    "| FedAvg    | 100 | 0.01 |               |               |\n",
    "| FedSGD    | 100 | 0.1  |               |               |\n",
    "| FedAvg    | 100 | 0.1  |               |               |\n",
    "| FedSGD    | 100 | 0.2  |               |               |\n",
    "| FedAvg    | 100 | 0.2  |               |               |\n",
    "\n",
    "How does the observed pattern differ?"
   ]
  },
  {
   "cell_type": "markdown",
   "metadata": {},
   "source": [
    "### Answer"
   ]
  },
  {
   "cell_type": "code",
   "execution_count": 3,
   "metadata": {
    "execution": {
     "iopub.execute_input": "2024-03-09T19:31:55.362154Z",
     "iopub.status.busy": "2024-03-09T19:31:55.361780Z",
     "iopub.status.idle": "2024-03-09T20:56:51.873968Z",
     "shell.execute_reply": "2024-03-09T20:56:49.521232Z",
     "shell.execute_reply.started": "2024-03-09T19:31:55.362122Z"
    },
    "tags": []
   },
   "outputs": [
    {
     "name": "stderr",
     "output_type": "stream",
     "text": [
      "                                                      \r"
     ]
    }
   ],
   "source": [
    "client_subsets_2_a = [split(n, iid, seed) for n in [10,50,100]]\n",
    "\n",
    "fedsgd_gradient_df = [FedSgdGradientServer(lr=lr, client_subsets=client_subsets_2_a[i], client_fraction=c, seed=seed).run(nr_rounds).as_df() for i in range (3)]\n",
    "fedavg_df = [FedAvgServer(lr=lr, batch_size=b, client_subsets=client_subsets_2_a[i], client_fraction=c, nr_local_epochs=e, seed=seed).run(nr_rounds).as_df() for i in range (3)]\n",
    "\n",
    "merged_df_2_a = pd.concat(fedsgd_gradient_df + fedavg_df, ignore_index=True)"
   ]
  },
  {
   "cell_type": "code",
   "execution_count": 4,
   "metadata": {
    "execution": {
     "iopub.execute_input": "2024-03-09T20:56:56.092192Z",
     "iopub.status.busy": "2024-03-09T20:56:55.778661Z",
     "iopub.status.idle": "2024-03-09T20:57:14.086307Z",
     "shell.execute_reply": "2024-03-09T20:57:14.083608Z",
     "shell.execute_reply.started": "2024-03-09T20:56:56.068880Z"
    },
    "tags": []
   },
   "outputs": [
    {
     "data": {
      "text/html": [
       "<div>\n",
       "<style scoped>\n",
       "    .dataframe tbody tr th:only-of-type {\n",
       "        vertical-align: middle;\n",
       "    }\n",
       "\n",
       "    .dataframe tbody tr th {\n",
       "        vertical-align: top;\n",
       "    }\n",
       "\n",
       "    .dataframe thead th {\n",
       "        text-align: right;\n",
       "    }\n",
       "</style>\n",
       "<table border=\"1\" class=\"dataframe\">\n",
       "  <thead>\n",
       "    <tr style=\"text-align: right;\">\n",
       "      <th></th>\n",
       "      <th>Round</th>\n",
       "      <th>Algorithm</th>\n",
       "      <th>N</th>\n",
       "      <th>C</th>\n",
       "      <th>B</th>\n",
       "      <th>E</th>\n",
       "      <th>η</th>\n",
       "      <th>Seed</th>\n",
       "      <th>Message count</th>\n",
       "      <th>Test accuracy</th>\n",
       "    </tr>\n",
       "  </thead>\n",
       "  <tbody>\n",
       "    <tr>\n",
       "      <th>0</th>\n",
       "      <td>1</td>\n",
       "      <td>FedSGDGradient</td>\n",
       "      <td>10</td>\n",
       "      <td>0.1</td>\n",
       "      <td>∞</td>\n",
       "      <td>1</td>\n",
       "      <td>0.01</td>\n",
       "      <td>10</td>\n",
       "      <td>2</td>\n",
       "      <td>9.11</td>\n",
       "    </tr>\n",
       "    <tr>\n",
       "      <th>1</th>\n",
       "      <td>2</td>\n",
       "      <td>FedSGDGradient</td>\n",
       "      <td>10</td>\n",
       "      <td>0.1</td>\n",
       "      <td>∞</td>\n",
       "      <td>1</td>\n",
       "      <td>0.01</td>\n",
       "      <td>10</td>\n",
       "      <td>4</td>\n",
       "      <td>13.95</td>\n",
       "    </tr>\n",
       "    <tr>\n",
       "      <th>2</th>\n",
       "      <td>1</td>\n",
       "      <td>FedSGDGradient</td>\n",
       "      <td>50</td>\n",
       "      <td>0.1</td>\n",
       "      <td>∞</td>\n",
       "      <td>1</td>\n",
       "      <td>0.01</td>\n",
       "      <td>10</td>\n",
       "      <td>10</td>\n",
       "      <td>9.13</td>\n",
       "    </tr>\n",
       "    <tr>\n",
       "      <th>3</th>\n",
       "      <td>2</td>\n",
       "      <td>FedSGDGradient</td>\n",
       "      <td>50</td>\n",
       "      <td>0.1</td>\n",
       "      <td>∞</td>\n",
       "      <td>1</td>\n",
       "      <td>0.01</td>\n",
       "      <td>10</td>\n",
       "      <td>20</td>\n",
       "      <td>13.47</td>\n",
       "    </tr>\n",
       "    <tr>\n",
       "      <th>4</th>\n",
       "      <td>1</td>\n",
       "      <td>FedSGDGradient</td>\n",
       "      <td>100</td>\n",
       "      <td>0.1</td>\n",
       "      <td>∞</td>\n",
       "      <td>1</td>\n",
       "      <td>0.01</td>\n",
       "      <td>10</td>\n",
       "      <td>20</td>\n",
       "      <td>9.01</td>\n",
       "    </tr>\n",
       "    <tr>\n",
       "      <th>5</th>\n",
       "      <td>2</td>\n",
       "      <td>FedSGDGradient</td>\n",
       "      <td>100</td>\n",
       "      <td>0.1</td>\n",
       "      <td>∞</td>\n",
       "      <td>1</td>\n",
       "      <td>0.01</td>\n",
       "      <td>10</td>\n",
       "      <td>40</td>\n",
       "      <td>13.83</td>\n",
       "    </tr>\n",
       "    <tr>\n",
       "      <th>6</th>\n",
       "      <td>1</td>\n",
       "      <td>FedAvg</td>\n",
       "      <td>10</td>\n",
       "      <td>0.1</td>\n",
       "      <td>100</td>\n",
       "      <td>1</td>\n",
       "      <td>0.01</td>\n",
       "      <td>10</td>\n",
       "      <td>2</td>\n",
       "      <td>74.89</td>\n",
       "    </tr>\n",
       "    <tr>\n",
       "      <th>7</th>\n",
       "      <td>2</td>\n",
       "      <td>FedAvg</td>\n",
       "      <td>10</td>\n",
       "      <td>0.1</td>\n",
       "      <td>100</td>\n",
       "      <td>1</td>\n",
       "      <td>0.01</td>\n",
       "      <td>10</td>\n",
       "      <td>4</td>\n",
       "      <td>86.80</td>\n",
       "    </tr>\n",
       "    <tr>\n",
       "      <th>8</th>\n",
       "      <td>1</td>\n",
       "      <td>FedAvg</td>\n",
       "      <td>50</td>\n",
       "      <td>0.1</td>\n",
       "      <td>100</td>\n",
       "      <td>1</td>\n",
       "      <td>0.01</td>\n",
       "      <td>10</td>\n",
       "      <td>10</td>\n",
       "      <td>47.54</td>\n",
       "    </tr>\n",
       "    <tr>\n",
       "      <th>9</th>\n",
       "      <td>2</td>\n",
       "      <td>FedAvg</td>\n",
       "      <td>50</td>\n",
       "      <td>0.1</td>\n",
       "      <td>100</td>\n",
       "      <td>1</td>\n",
       "      <td>0.01</td>\n",
       "      <td>10</td>\n",
       "      <td>20</td>\n",
       "      <td>64.91</td>\n",
       "    </tr>\n",
       "    <tr>\n",
       "      <th>10</th>\n",
       "      <td>1</td>\n",
       "      <td>FedAvg</td>\n",
       "      <td>100</td>\n",
       "      <td>0.1</td>\n",
       "      <td>100</td>\n",
       "      <td>1</td>\n",
       "      <td>0.01</td>\n",
       "      <td>10</td>\n",
       "      <td>20</td>\n",
       "      <td>30.55</td>\n",
       "    </tr>\n",
       "    <tr>\n",
       "      <th>11</th>\n",
       "      <td>2</td>\n",
       "      <td>FedAvg</td>\n",
       "      <td>100</td>\n",
       "      <td>0.1</td>\n",
       "      <td>100</td>\n",
       "      <td>1</td>\n",
       "      <td>0.01</td>\n",
       "      <td>10</td>\n",
       "      <td>40</td>\n",
       "      <td>46.23</td>\n",
       "    </tr>\n",
       "  </tbody>\n",
       "</table>\n",
       "</div>"
      ],
      "text/plain": [
       "    Round       Algorithm    N    C    B  E     η  Seed  Message count  \\\n",
       "0       1  FedSGDGradient   10  0.1    ∞  1  0.01    10              2   \n",
       "1       2  FedSGDGradient   10  0.1    ∞  1  0.01    10              4   \n",
       "2       1  FedSGDGradient   50  0.1    ∞  1  0.01    10             10   \n",
       "3       2  FedSGDGradient   50  0.1    ∞  1  0.01    10             20   \n",
       "4       1  FedSGDGradient  100  0.1    ∞  1  0.01    10             20   \n",
       "5       2  FedSGDGradient  100  0.1    ∞  1  0.01    10             40   \n",
       "6       1          FedAvg   10  0.1  100  1  0.01    10              2   \n",
       "7       2          FedAvg   10  0.1  100  1  0.01    10              4   \n",
       "8       1          FedAvg   50  0.1  100  1  0.01    10             10   \n",
       "9       2          FedAvg   50  0.1  100  1  0.01    10             20   \n",
       "10      1          FedAvg  100  0.1  100  1  0.01    10             20   \n",
       "11      2          FedAvg  100  0.1  100  1  0.01    10             40   \n",
       "\n",
       "    Test accuracy  \n",
       "0            9.11  \n",
       "1           13.95  \n",
       "2            9.13  \n",
       "3           13.47  \n",
       "4            9.01  \n",
       "5           13.83  \n",
       "6           74.89  \n",
       "7           86.80  \n",
       "8           47.54  \n",
       "9           64.91  \n",
       "10          30.55  \n",
       "11          46.23  "
      ]
     },
     "execution_count": 4,
     "metadata": {},
     "output_type": "execute_result"
    }
   ],
   "source": [
    "merged_df_2_a"
   ]
  },
  {
   "cell_type": "markdown",
   "metadata": {},
   "source": [
    "TODO"
   ]
  },
  {
   "cell_type": "code",
   "execution_count": 5,
   "metadata": {
    "execution": {
     "iopub.execute_input": "2024-03-09T20:57:14.178578Z",
     "iopub.status.busy": "2024-03-09T20:57:14.177725Z",
     "iopub.status.idle": "2024-03-09T22:39:39.332236Z",
     "shell.execute_reply": "2024-03-09T22:39:37.329974Z",
     "shell.execute_reply.started": "2024-03-09T20:57:14.178504Z"
    },
    "tags": []
   },
   "outputs": [
    {
     "name": "stderr",
     "output_type": "stream",
     "text": [
      "                                                      \r"
     ]
    }
   ],
   "source": [
    "fraction_of_clients = [0.01, 0.1, 0.2]\n",
    "\n",
    "fedsgd_gradient_df = [FedSgdGradientServer(lr=lr, client_subsets=client_subsets, client_fraction=fraction_of_clients[i], seed=seed).run(nr_rounds).as_df() for i in range (3)]\n",
    "fedavg_df = [FedAvgServer(lr=lr, batch_size=b, client_subsets=client_subsets, client_fraction=fraction_of_clients[i], nr_local_epochs=e, seed=seed).run(nr_rounds).as_df() for i in range (3)]\n",
    "\n",
    "merged_df_2_b = pd.concat(fedsgd_gradient_df + fedavg_df, ignore_index=True)"
   ]
  },
  {
   "cell_type": "code",
   "execution_count": 6,
   "metadata": {
    "execution": {
     "iopub.execute_input": "2024-03-09T22:39:42.852841Z",
     "iopub.status.busy": "2024-03-09T22:39:42.668765Z",
     "iopub.status.idle": "2024-03-09T22:39:55.503118Z",
     "shell.execute_reply": "2024-03-09T22:39:55.422572Z",
     "shell.execute_reply.started": "2024-03-09T22:39:42.851106Z"
    }
   },
   "outputs": [
    {
     "data": {
      "text/html": [
       "<div>\n",
       "<style scoped>\n",
       "    .dataframe tbody tr th:only-of-type {\n",
       "        vertical-align: middle;\n",
       "    }\n",
       "\n",
       "    .dataframe tbody tr th {\n",
       "        vertical-align: top;\n",
       "    }\n",
       "\n",
       "    .dataframe thead th {\n",
       "        text-align: right;\n",
       "    }\n",
       "</style>\n",
       "<table border=\"1\" class=\"dataframe\">\n",
       "  <thead>\n",
       "    <tr style=\"text-align: right;\">\n",
       "      <th></th>\n",
       "      <th>Round</th>\n",
       "      <th>Algorithm</th>\n",
       "      <th>N</th>\n",
       "      <th>C</th>\n",
       "      <th>B</th>\n",
       "      <th>E</th>\n",
       "      <th>η</th>\n",
       "      <th>Seed</th>\n",
       "      <th>Message count</th>\n",
       "      <th>Test accuracy</th>\n",
       "    </tr>\n",
       "  </thead>\n",
       "  <tbody>\n",
       "    <tr>\n",
       "      <th>0</th>\n",
       "      <td>1</td>\n",
       "      <td>FedSGDGradient</td>\n",
       "      <td>100</td>\n",
       "      <td>0.01</td>\n",
       "      <td>∞</td>\n",
       "      <td>1</td>\n",
       "      <td>0.01</td>\n",
       "      <td>10</td>\n",
       "      <td>2</td>\n",
       "      <td>9.40</td>\n",
       "    </tr>\n",
       "    <tr>\n",
       "      <th>1</th>\n",
       "      <td>2</td>\n",
       "      <td>FedSGDGradient</td>\n",
       "      <td>100</td>\n",
       "      <td>0.01</td>\n",
       "      <td>∞</td>\n",
       "      <td>1</td>\n",
       "      <td>0.01</td>\n",
       "      <td>10</td>\n",
       "      <td>4</td>\n",
       "      <td>14.52</td>\n",
       "    </tr>\n",
       "    <tr>\n",
       "      <th>2</th>\n",
       "      <td>1</td>\n",
       "      <td>FedSGDGradient</td>\n",
       "      <td>100</td>\n",
       "      <td>0.10</td>\n",
       "      <td>∞</td>\n",
       "      <td>1</td>\n",
       "      <td>0.01</td>\n",
       "      <td>10</td>\n",
       "      <td>20</td>\n",
       "      <td>9.01</td>\n",
       "    </tr>\n",
       "    <tr>\n",
       "      <th>3</th>\n",
       "      <td>2</td>\n",
       "      <td>FedSGDGradient</td>\n",
       "      <td>100</td>\n",
       "      <td>0.10</td>\n",
       "      <td>∞</td>\n",
       "      <td>1</td>\n",
       "      <td>0.01</td>\n",
       "      <td>10</td>\n",
       "      <td>40</td>\n",
       "      <td>13.83</td>\n",
       "    </tr>\n",
       "    <tr>\n",
       "      <th>4</th>\n",
       "      <td>1</td>\n",
       "      <td>FedSGDGradient</td>\n",
       "      <td>100</td>\n",
       "      <td>0.20</td>\n",
       "      <td>∞</td>\n",
       "      <td>1</td>\n",
       "      <td>0.01</td>\n",
       "      <td>10</td>\n",
       "      <td>40</td>\n",
       "      <td>8.89</td>\n",
       "    </tr>\n",
       "    <tr>\n",
       "      <th>5</th>\n",
       "      <td>2</td>\n",
       "      <td>FedSGDGradient</td>\n",
       "      <td>100</td>\n",
       "      <td>0.20</td>\n",
       "      <td>∞</td>\n",
       "      <td>1</td>\n",
       "      <td>0.01</td>\n",
       "      <td>10</td>\n",
       "      <td>80</td>\n",
       "      <td>13.74</td>\n",
       "    </tr>\n",
       "    <tr>\n",
       "      <th>6</th>\n",
       "      <td>1</td>\n",
       "      <td>FedAvg</td>\n",
       "      <td>100</td>\n",
       "      <td>0.01</td>\n",
       "      <td>100</td>\n",
       "      <td>1</td>\n",
       "      <td>0.01</td>\n",
       "      <td>10</td>\n",
       "      <td>2</td>\n",
       "      <td>30.20</td>\n",
       "    </tr>\n",
       "    <tr>\n",
       "      <th>7</th>\n",
       "      <td>2</td>\n",
       "      <td>FedAvg</td>\n",
       "      <td>100</td>\n",
       "      <td>0.01</td>\n",
       "      <td>100</td>\n",
       "      <td>1</td>\n",
       "      <td>0.01</td>\n",
       "      <td>10</td>\n",
       "      <td>4</td>\n",
       "      <td>41.31</td>\n",
       "    </tr>\n",
       "    <tr>\n",
       "      <th>8</th>\n",
       "      <td>1</td>\n",
       "      <td>FedAvg</td>\n",
       "      <td>100</td>\n",
       "      <td>0.10</td>\n",
       "      <td>100</td>\n",
       "      <td>1</td>\n",
       "      <td>0.01</td>\n",
       "      <td>10</td>\n",
       "      <td>20</td>\n",
       "      <td>30.55</td>\n",
       "    </tr>\n",
       "    <tr>\n",
       "      <th>9</th>\n",
       "      <td>2</td>\n",
       "      <td>FedAvg</td>\n",
       "      <td>100</td>\n",
       "      <td>0.10</td>\n",
       "      <td>100</td>\n",
       "      <td>1</td>\n",
       "      <td>0.01</td>\n",
       "      <td>10</td>\n",
       "      <td>40</td>\n",
       "      <td>46.23</td>\n",
       "    </tr>\n",
       "    <tr>\n",
       "      <th>10</th>\n",
       "      <td>1</td>\n",
       "      <td>FedAvg</td>\n",
       "      <td>100</td>\n",
       "      <td>0.20</td>\n",
       "      <td>100</td>\n",
       "      <td>1</td>\n",
       "      <td>0.01</td>\n",
       "      <td>10</td>\n",
       "      <td>40</td>\n",
       "      <td>31.02</td>\n",
       "    </tr>\n",
       "    <tr>\n",
       "      <th>11</th>\n",
       "      <td>2</td>\n",
       "      <td>FedAvg</td>\n",
       "      <td>100</td>\n",
       "      <td>0.20</td>\n",
       "      <td>100</td>\n",
       "      <td>1</td>\n",
       "      <td>0.01</td>\n",
       "      <td>10</td>\n",
       "      <td>80</td>\n",
       "      <td>44.76</td>\n",
       "    </tr>\n",
       "  </tbody>\n",
       "</table>\n",
       "</div>"
      ],
      "text/plain": [
       "    Round       Algorithm    N     C    B  E     η  Seed  Message count  \\\n",
       "0       1  FedSGDGradient  100  0.01    ∞  1  0.01    10              2   \n",
       "1       2  FedSGDGradient  100  0.01    ∞  1  0.01    10              4   \n",
       "2       1  FedSGDGradient  100  0.10    ∞  1  0.01    10             20   \n",
       "3       2  FedSGDGradient  100  0.10    ∞  1  0.01    10             40   \n",
       "4       1  FedSGDGradient  100  0.20    ∞  1  0.01    10             40   \n",
       "5       2  FedSGDGradient  100  0.20    ∞  1  0.01    10             80   \n",
       "6       1          FedAvg  100  0.01  100  1  0.01    10              2   \n",
       "7       2          FedAvg  100  0.01  100  1  0.01    10              4   \n",
       "8       1          FedAvg  100  0.10  100  1  0.01    10             20   \n",
       "9       2          FedAvg  100  0.10  100  1  0.01    10             40   \n",
       "10      1          FedAvg  100  0.20  100  1  0.01    10             40   \n",
       "11      2          FedAvg  100  0.20  100  1  0.01    10             80   \n",
       "\n",
       "    Test accuracy  \n",
       "0            9.40  \n",
       "1           14.52  \n",
       "2            9.01  \n",
       "3           13.83  \n",
       "4            8.89  \n",
       "5           13.74  \n",
       "6           30.20  \n",
       "7           41.31  \n",
       "8           30.55  \n",
       "9           46.23  \n",
       "10          31.02  \n",
       "11          44.76  "
      ]
     },
     "execution_count": 6,
     "metadata": {},
     "output_type": "execute_result"
    }
   ],
   "source": [
    "merged_df_2_b"
   ]
  },
  {
   "cell_type": "markdown",
   "metadata": {},
   "source": [
    "TODO"
   ]
  },
  {
   "cell_type": "markdown",
   "metadata": {},
   "source": [
    "## Exercise 3 - Batch size & learning rate (4 points)"
   ]
  },
  {
   "cell_type": "markdown",
   "metadata": {},
   "source": [
    "### Question"
   ]
  },
  {
   "cell_type": "markdown",
   "metadata": {},
   "source": [
    "_(2 points)_ Complete the following table with the last-round wall time and test accuracy of FedAvg under different batch sizes:\n",
    "\n",
    "| Algorithm | B   | η    | Wall time | Test accuracy |\n",
    "| --------- | --- | ---- | --------- | ------------- |\n",
    "| FedAvg    | 10  | 0.01 |           |               |\n",
    "| FedAvg    | 100 | 0.01 |           |               |\n",
    "| FedAvg    | 500 | 0.01 |           |               |\n",
    "\n",
    "What is the trade-off for larger batch sizes?\n",
    "\n",
    "*Note:* The exact measured time will differ from run to run, even on the same machine, but the trends should remain the same. Furthermore, the effect of batch size on wall time is less pronounced and, depending on the exact hardware is sometimes minimal when running on CPU instead of GPU.\n",
    "\n",
    "_(2 points)_ Add the corresponding values for varying learning rates, also for FedSGD, in the table below:\n",
    "\n",
    "| Algorithm | B   | η     | Wall time | Test accuracy |\n",
    "| --------- | --- | ----- | --------- | ------------- |\n",
    "| FedSGD    | ∞   | 0.001 |           |               |\n",
    "| FedAvg    | 100 | 0.001 |           |               |\n",
    "| FedSGD    | ∞   | 0.01  |           |               |\n",
    "| FedAvg    | 100 | 0.01  |           |               |\n",
    "| FedSGD    | ∞   | 1.0   |           |               |\n",
    "| FedAvg    | 100 | 1.0   |           |               |\n",
    "\n",
    "Does the learning rate influence the wall time? For accuracy, how does it change the value obtained within the set number of rounds? Can it impact the model's convergence?"
   ]
  },
  {
   "cell_type": "markdown",
   "metadata": {},
   "source": [
    "### Answer"
   ]
  },
  {
   "cell_type": "code",
   "execution_count": 7,
   "metadata": {
    "execution": {
     "iopub.execute_input": "2024-03-09T22:39:56.890016Z",
     "iopub.status.busy": "2024-03-09T22:39:56.889121Z",
     "iopub.status.idle": "2024-03-09T23:36:13.993220Z",
     "shell.execute_reply": "2024-03-09T23:36:12.326546Z",
     "shell.execute_reply.started": "2024-03-09T22:39:56.889941Z"
    }
   },
   "outputs": [
    {
     "name": "stderr",
     "output_type": "stream",
     "text": [
      "                                                      \r"
     ]
    },
    {
     "data": {
      "text/plain": [
       "[   Round Algorithm    N    C   B  E     η  Seed  Wall time  Message count  \\\n",
       " 0      1    FedAvg  100  0.1  10  1  0.01    10       29.3             20   \n",
       " 1      2    FedAvg  100  0.1  10  1  0.01    10       79.0             40   \n",
       " \n",
       "    Test accuracy  \n",
       " 0          70.90  \n",
       " 1          85.11  ,\n",
       "    Round Algorithm    N    C    B  E     η  Seed  Wall time  Message count  \\\n",
       " 0      1    FedAvg  100  0.1  100  1  0.01    10       37.7             20   \n",
       " 1      2    FedAvg  100  0.1  100  1  0.01    10       98.3             40   \n",
       " \n",
       "    Test accuracy  \n",
       " 0          30.55  \n",
       " 1          46.23  ,\n",
       "    Round Algorithm    N    C    B  E     η  Seed  Wall time  Message count  \\\n",
       " 0      1    FedAvg  100  0.1  500  1  0.01    10       59.2             20   \n",
       " 1      2    FedAvg  100  0.1  500  1  0.01    10      146.9             40   \n",
       " \n",
       "    Test accuracy  \n",
       " 0          14.95  \n",
       " 1          24.06  ]"
      ]
     },
     "execution_count": 7,
     "metadata": {},
     "output_type": "execute_result"
    }
   ],
   "source": [
    "batch_sizes = [10, 100, 500]\n",
    "\n",
    "fedavg_df_3_a = [FedAvgServer(lr=lr, batch_size=batch_sizes[i], client_subsets=client_subsets, client_fraction=c, nr_local_epochs=e, seed=seed).run(nr_rounds).as_df(skip_wtime=False) for i in range (3)]\n",
    "\n",
    "fedavg_df_3_a"
   ]
  },
  {
   "cell_type": "markdown",
   "metadata": {},
   "source": [
    "TODO"
   ]
  },
  {
   "cell_type": "code",
   "execution_count": null,
   "metadata": {
    "execution": {
     "iopub.execute_input": "2024-03-09T23:36:17.393426Z",
     "iopub.status.busy": "2024-03-09T23:36:17.298627Z"
    }
   },
   "outputs": [
    {
     "name": "stderr",
     "output_type": "stream",
     "text": [
      "Rounds:   0%|          | 0/2 [00:00<?, ?it/s]"
     ]
    }
   ],
   "source": [
    "learning_rates = [0.001, 0.01, 1.0]\n",
    "\n",
    "fedsgd_gradient_df = [FedSgdGradientServer(lr=learning_rates[i], client_subsets=client_subsets, client_fraction=c, seed=seed).run(nr_rounds).as_df(skip_wtime=False) for i in range (3)]\n",
    "fedavg_df = [FedAvgServer(lr=learning_rates[i], batch_size=b, client_subsets=client_subsets, client_fraction=c, nr_local_epochs=e, seed=seed).run(nr_rounds).as_df(skip_wtime=False) for i in range (3)]\n",
    "\n",
    "merged_df_3_b = pd.concat(fedsgd_gradient_df + fedavg_df, ignore_index=True)\n",
    "\n",
    "merged_df_3_b"
   ]
  },
  {
   "cell_type": "markdown",
   "metadata": {},
   "source": [
    "TODO"
   ]
  },
  {
   "cell_type": "markdown",
   "metadata": {},
   "source": [
    "## Exercise 4 - Local epoch count & (non-)IID data (5 points)"
   ]
  },
  {
   "cell_type": "markdown",
   "metadata": {},
   "source": [
    "### Question"
   ]
  },
  {
   "cell_type": "markdown",
   "metadata": {},
   "source": [
    "_(1 point)_ Create a line plot of the accuracy after each round for the following algorithm variants:\n",
    "\n",
    "- FedSGD\n",
    "- FedAvg (E=1)\n",
    "- FedAvg (E=2)\n",
    "- FedAvg (E=4)\n",
    "\n",
    "How does FedAvg compare to FedSGD? What is the effect of increasing the work clients perform locally for each update in FedAvg?\n",
    "\n",
    "_(2 points)_ Make one line plot of FedSGD and FedAvg under an IID and non-IID split for 15 rounds (leaving all other parameter values as they previously mentioned default). How does the non-IID setting affect the accuracy achieved by the two algorithms? What is the difference in terms of the smoothness of learning?\n",
    "\n",
    "_(2 points)_ Make another plot for only non-IID splits, including the FedSGD and FedAvg configs from before, and add a version for each with a learning rate of 0.001 and client fraction of 0.5. How does the stability of the new variants compare to the old ones? Why do the changes in parameters have the observed effect?"
   ]
  },
  {
   "cell_type": "markdown",
   "metadata": {
    "tags": []
   },
   "source": [
    "### Answer"
   ]
  },
  {
   "cell_type": "code",
   "execution_count": null,
   "metadata": {},
   "outputs": [],
   "source": [
    "local_epochs = [1, 2, 4]\n",
    "\n",
    "fedsgd_gradient_df = FedSgdGradientServer(lr=lr, client_subsets=client_subsets, client_fraction=c, seed=seed).run(nr_rounds).as_df()\n",
    "fedavg_df = [FedAvgServer(lr=lr, batch_size=b, client_subsets=client_subsets, client_fraction=c, nr_local_epochs=local_epochs[i], seed=seed).run(nr_rounds).as_df() for i in range (3)]\n",
    "\n",
    "df = pd.concat([fedavg_df, fedsgd_gradient_df], ignore_index=True)\n",
    "ax = sns.lineplot(df, x=\"Round\", y=\"Test accuracy\", hue=\"Algorithm\", seed=0)\n",
    "_ = ax.set_xticks(df[\"Round\"].unique())"
   ]
  },
  {
   "cell_type": "markdown",
   "metadata": {},
   "source": [
    "TODO"
   ]
  },
  {
   "cell_type": "code",
   "execution_count": null,
   "metadata": {},
   "outputs": [],
   "source": [
    "client_subsets_4_b = [split(n, iid, seed) for iid in [True, False]]\n",
    "\n",
    "fedsgd_gradient_df_iid = FedSgdGradientServer(lr=lr, client_subsets=client_subsets_4_b[0], client_fraction=c, seed=seed).run(nr_rounds=15).as_df()\n",
    "fedavg_df_iid = FedAvgServer(lr=lr, batch_size=b, client_subsets=client_subsets_4_b[0], client_fraction=c, nr_local_epochs=e, seed=seed).run(nr_rounds=15).as_df()\n",
    "\n",
    "fedsgd_gradient_df = FedSgdGradientServer(lr=lr, client_subsets=client_subsets_4_b[1], client_fraction=c, seed=seed).run(nr_rounds=15).as_df()\n",
    "fedavg_df = FedAvgServer(lr=lr, batch_size=b, client_subsets=client_subsets_4_b[1], client_fraction=c, nr_local_epochs=e, seed=seed).run(nr_rounds=15).as_df()\n",
    "\n",
    "merged_df_4_b = pd.concat([fedsgd_gradient_df_iid, fedsgd_gradient_df, fedavg_df_iid, fedavg_df], ignore_index=True)\n",
    "ax = sns.lineplot(df, x=\"Round\", y=\"Test accuracy\", hue=\"Algorithm\", seed=0)\n",
    "_ = ax.set_xticks(df[\"Round\"].unique())"
   ]
  },
  {
   "cell_type": "markdown",
   "metadata": {},
   "source": [
    "TODO"
   ]
  },
  {
   "cell_type": "code",
   "execution_count": null,
   "metadata": {},
   "outputs": [],
   "source": [
    "fedsgd_gradient_df_4_c = FedSgdGradientServer(lr=0.001, client_subsets=client_subsets_4_b[1], client_fraction=0.5, seed=seed).run(nr_rounds=15).as_df()\n",
    "fedavg_df_4_c = FedAvgServer(lr=0.001, batch_size=b, client_subsets=client_subsets_4_b[1], client_fraction=0.5, nr_local_epochs=e, seed=seed).run(nr_rounds=15).as_df()\n",
    "\n",
    "merged_df_4_c = pd.concat([fedsgd_gradient, fedsgd_gradient_df_4_c, fedavg_df, fedavg_df_4_c], ignore_index=True)\n",
    "ax = sns.lineplot(df, x=\"Round\", y=\"Test accuracy\", hue=\"Algorithm\", seed=0)\n",
    "_ = ax.set_xticks(df[\"Round\"].unique())"
   ]
  },
  {
   "cell_type": "markdown",
   "metadata": {},
   "source": [
    "TODO"
   ]
  },
  {
   "cell_type": "markdown",
   "metadata": {},
   "source": []
  }
 ],
 "metadata": {
  "kernelspec": {
   "display_name": "Python3",
   "language": "python",
   "name": "python3"
  },
  "language_info": {
   "codemirror_mode": {
    "name": "ipython",
    "version": 3
   },
   "file_extension": ".py",
   "mimetype": "text/x-python",
   "name": "python",
   "nbconvert_exporter": "python",
   "pygments_lexer": "ipython3",
   "version": "3.11.5"
  }
 },
 "nbformat": 4,
 "nbformat_minor": 4
}
